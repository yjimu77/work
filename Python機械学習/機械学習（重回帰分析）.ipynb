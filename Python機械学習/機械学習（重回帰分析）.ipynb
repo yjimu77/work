{
 "cells": [
  {
   "cell_type": "markdown",
   "id": "c1e57d84-882d-475e-a3f0-490dda5bfe99",
   "metadata": {},
   "source": [
    "# 機械学習 - 重回帰分析\n",
    "[Pythonで重回帰分析をしてみよう【Python機械学習#4】](https://www.youtube.com/watch?v=XH1kdoF1vF8&list=PL_tQOEJCWOE5ScOzRwyTGEAAZg_RQhM_r)"
   ]
  },
  {
   "cell_type": "code",
   "execution_count": 2,
   "id": "e407b823-8bab-487b-824f-0f096ce51f7c",
   "metadata": {},
   "outputs": [],
   "source": [
    "import pandas as pd\n",
    "import numpy as np"
   ]
  },
  {
   "cell_type": "code",
   "execution_count": 4,
   "id": "b570435a-2eb7-4ad7-94a1-a04cfcbb97dc",
   "metadata": {},
   "outputs": [],
   "source": [
    "df_past = pd.read_csv(\"./data/sales_data.csv\")\n",
    "df_future = pd.read_csv(\"./data/sales_future.csv\")"
   ]
  },
  {
   "cell_type": "code",
   "execution_count": 23,
   "id": "10eee97c-dd36-47b3-b91e-05d448f56b2f",
   "metadata": {},
   "outputs": [],
   "source": [
    "X_name=['temperature', 'rainy']\n",
    "X = df_past[X_name]\n",
    "y = df_past[\"sales\"]"
   ]
  },
  {
   "cell_type": "code",
   "execution_count": 24,
   "id": "10811fc4-527d-4897-a852-4ec8d3500d27",
   "metadata": {},
   "outputs": [
    {
     "data": {
      "text/html": [
       "<table class=\"simpletable\">\n",
       "<caption>OLS Regression Results</caption>\n",
       "<tr>\n",
       "  <th>Dep. Variable:</th>          <td>sales</td>      <th>  R-squared:         </th> <td>   0.853</td>\n",
       "</tr>\n",
       "<tr>\n",
       "  <th>Model:</th>                   <td>OLS</td>       <th>  Adj. R-squared:    </th> <td>   0.843</td>\n",
       "</tr>\n",
       "<tr>\n",
       "  <th>Method:</th>             <td>Least Squares</td>  <th>  F-statistic:       </th> <td>   81.34</td>\n",
       "</tr>\n",
       "<tr>\n",
       "  <th>Date:</th>             <td>Thu, 30 Dec 2021</td> <th>  Prob (F-statistic):</th> <td>2.17e-12</td>\n",
       "</tr>\n",
       "<tr>\n",
       "  <th>Time:</th>                 <td>09:10:23</td>     <th>  Log-Likelihood:    </th> <td> -192.96</td>\n",
       "</tr>\n",
       "<tr>\n",
       "  <th>No. Observations:</th>      <td>    31</td>      <th>  AIC:               </th> <td>   391.9</td>\n",
       "</tr>\n",
       "<tr>\n",
       "  <th>Df Residuals:</th>          <td>    28</td>      <th>  BIC:               </th> <td>   396.2</td>\n",
       "</tr>\n",
       "<tr>\n",
       "  <th>Df Model:</th>              <td>     2</td>      <th>                     </th>     <td> </td>   \n",
       "</tr>\n",
       "<tr>\n",
       "  <th>Covariance Type:</th>      <td>nonrobust</td>    <th>                     </th>     <td> </td>   \n",
       "</tr>\n",
       "</table>\n",
       "<table class=\"simpletable\">\n",
       "<tr>\n",
       "       <td></td>          <th>coef</th>     <th>std err</th>      <th>t</th>      <th>P>|t|</th>  <th>[0.025</th>    <th>0.975]</th>  \n",
       "</tr>\n",
       "<tr>\n",
       "  <th>const</th>       <td>  -76.0840</td> <td>   97.772</td> <td>   -0.778</td> <td> 0.443</td> <td> -276.360</td> <td>  124.192</td>\n",
       "</tr>\n",
       "<tr>\n",
       "  <th>temperature</th> <td>   47.3441</td> <td>    4.776</td> <td>    9.913</td> <td> 0.000</td> <td>   37.561</td> <td>   57.128</td>\n",
       "</tr>\n",
       "<tr>\n",
       "  <th>rainy</th>       <td>  170.5746</td> <td>   77.451</td> <td>    2.202</td> <td> 0.036</td> <td>   11.923</td> <td>  329.226</td>\n",
       "</tr>\n",
       "</table>\n",
       "<table class=\"simpletable\">\n",
       "<tr>\n",
       "  <th>Omnibus:</th>       <td> 0.555</td> <th>  Durbin-Watson:     </th> <td>   1.801</td>\n",
       "</tr>\n",
       "<tr>\n",
       "  <th>Prob(Omnibus):</th> <td> 0.758</td> <th>  Jarque-Bera (JB):  </th> <td>   0.628</td>\n",
       "</tr>\n",
       "<tr>\n",
       "  <th>Skew:</th>          <td>-0.054</td> <th>  Prob(JB):          </th> <td>   0.731</td>\n",
       "</tr>\n",
       "<tr>\n",
       "  <th>Kurtosis:</th>      <td> 2.311</td> <th>  Cond. No.          </th> <td>    91.7</td>\n",
       "</tr>\n",
       "</table><br/><br/>Notes:<br/>[1] Standard Errors assume that the covariance matrix of the errors is correctly specified."
      ],
      "text/plain": [
       "<class 'statsmodels.iolib.summary.Summary'>\n",
       "\"\"\"\n",
       "                            OLS Regression Results                            \n",
       "==============================================================================\n",
       "Dep. Variable:                  sales   R-squared:                       0.853\n",
       "Model:                            OLS   Adj. R-squared:                  0.843\n",
       "Method:                 Least Squares   F-statistic:                     81.34\n",
       "Date:                Thu, 30 Dec 2021   Prob (F-statistic):           2.17e-12\n",
       "Time:                        09:10:23   Log-Likelihood:                -192.96\n",
       "No. Observations:                  31   AIC:                             391.9\n",
       "Df Residuals:                      28   BIC:                             396.2\n",
       "Df Model:                           2                                         \n",
       "Covariance Type:            nonrobust                                         \n",
       "===============================================================================\n",
       "                  coef    std err          t      P>|t|      [0.025      0.975]\n",
       "-------------------------------------------------------------------------------\n",
       "const         -76.0840     97.772     -0.778      0.443    -276.360     124.192\n",
       "temperature    47.3441      4.776      9.913      0.000      37.561      57.128\n",
       "rainy         170.5746     77.451      2.202      0.036      11.923     329.226\n",
       "==============================================================================\n",
       "Omnibus:                        0.555   Durbin-Watson:                   1.801\n",
       "Prob(Omnibus):                  0.758   Jarque-Bera (JB):                0.628\n",
       "Skew:                          -0.054   Prob(JB):                        0.731\n",
       "Kurtosis:                       2.311   Cond. No.                         91.7\n",
       "==============================================================================\n",
       "\n",
       "Notes:\n",
       "[1] Standard Errors assume that the covariance matrix of the errors is correctly specified.\n",
       "\"\"\""
      ]
     },
     "execution_count": 24,
     "metadata": {},
     "output_type": "execute_result"
    }
   ],
   "source": [
    "#import statsmodels.api as sm\n",
    "import statsmodels.api as sm\n",
    "\n",
    "#線形回帰\n",
    "model = sm.OLS(y,sm.add_constant(X))\n",
    "result = model.fit()\n",
    "result.summary()\n"
   ]
  },
  {
   "cell_type": "markdown",
   "id": "e3edee71-be51-4b6c-8952-ffcf5c25bfaa",
   "metadata": {},
   "source": [
    "相反する項目を追加しない<br>\n",
    "多重共線性"
   ]
  },
  {
   "cell_type": "code",
   "execution_count": 29,
   "id": "b66623f9-4d4f-4ca0-96f6-827c196dea0f",
   "metadata": {},
   "outputs": [
    {
     "data": {
      "text/plain": [
       "0    691.026052\n",
       "1    809.250390\n",
       "2    406.825649\n",
       "3    809.386270\n",
       "4    894.469747\n",
       "dtype: float64"
      ]
     },
     "execution_count": 29,
     "metadata": {},
     "output_type": "execute_result"
    }
   ],
   "source": [
    "#売上予測\n",
    "result.predict(sm.add_constant(df_future[X_name]))"
   ]
  },
  {
   "cell_type": "markdown",
   "id": "efe5aac8-89a6-49e6-bfce-571d50cb1de5",
   "metadata": {},
   "source": [
    "#参考\n",
    "#データフレームのカラム名を取得する\n",
    "df_past.columns"
   ]
  },
  {
   "cell_type": "markdown",
   "id": "69c4dd4a-79f6-49e2-9cc6-03c27582de92",
   "metadata": {},
   "source": [
    "#参考\n",
    "#apiをインストールする\n",
    "!pip install api"
   ]
  },
  {
   "cell_type": "markdown",
   "id": "082ec4ee-f17a-4105-a7a1-426b9179cf49",
   "metadata": {},
   "source": [
    "#参考\n",
    "#インストール済みのパッケージ一覧\n",
    "!pip list\n",
    "#パッケージの一覧を詳細に確認する\n",
    "!pip list show\n",
    "#apiだけを詳細に\n",
    "!pip show api"
   ]
  },
  {
   "cell_type": "markdown",
   "id": "78783829-16da-452c-91c8-3fa5d07d9642",
   "metadata": {},
   "source": [
    "#インストール statsmodels\n",
    "!pip install statsmodels"
   ]
  },
  {
   "cell_type": "code",
   "execution_count": null,
   "id": "e4849713-f722-4dff-a5c8-9d16649971f9",
   "metadata": {},
   "outputs": [],
   "source": []
  }
 ],
 "metadata": {
  "kernelspec": {
   "display_name": "Python 3 (ipykernel)",
   "language": "python",
   "name": "python3"
  },
  "language_info": {
   "codemirror_mode": {
    "name": "ipython",
    "version": 3
   },
   "file_extension": ".py",
   "mimetype": "text/x-python",
   "name": "python",
   "nbconvert_exporter": "python",
   "pygments_lexer": "ipython3",
   "version": "3.10.1"
  }
 },
 "nbformat": 4,
 "nbformat_minor": 5
}
