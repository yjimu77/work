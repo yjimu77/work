{
 "cells": [
  {
   "cell_type": "markdown",
   "id": "47f8e13e-2763-40a8-9ec4-248122de8829",
   "metadata": {},
   "source": [
    "# 機械学習 - クラスタリング\n",
    "\n",
    "[PythonでK-meansクラスタリングしてみよう【Python機械学習#2】](https://www.youtube.com/watch?v=wRXtnlUNNBo&list=PL_tQOEJCWOE5ScOzRwyTGEAAZg_RQhM_r)"
   ]
  },
  {
   "cell_type": "code",
   "execution_count": 1,
   "id": "71eb9df3-ec16-47a8-b321-05a4b3b1ee98",
   "metadata": {},
   "outputs": [],
   "source": [
    "import pandas as pd\n",
    "import seaborn as sns\n",
    "import matplotlib.pyplot as plt\n",
    "\n",
    "df = pd.read_csv(\"./data/skill_level.csv\", index_col = 0 )"
   ]
  },
  {
   "cell_type": "code",
   "execution_count": 2,
   "id": "1de849d0-79b7-4fba-8f3a-18200b18949a",
   "metadata": {},
   "outputs": [],
   "source": [
    "\n",
    "from sklearn.cluster import KMeans\n",
    "vec = KMeans(n_clusters=4)\n",
    "group_num = vec.fit_predict(df)"
   ]
  },
  {
   "cell_type": "code",
   "execution_count": 3,
   "id": "6f730f8e-d9bd-4f28-8d0a-9ed85a109e95",
   "metadata": {},
   "outputs": [
    {
     "data": {
      "text/plain": [
       "array([0, 3, 1, 0, 2, 0, 3, 0, 1, 3, 1, 2, 1, 1, 2])"
      ]
     },
     "execution_count": 3,
     "metadata": {},
     "output_type": "execute_result"
    }
   ],
   "source": [
    "group_num"
   ]
  },
  {
   "cell_type": "code",
   "execution_count": 4,
   "id": "9ac97aa4-af31-47a3-bc17-786f7332103b",
   "metadata": {},
   "outputs": [
    {
     "data": {
      "text/html": [
       "<div>\n",
       "<style scoped>\n",
       "    .dataframe tbody tr th:only-of-type {\n",
       "        vertical-align: middle;\n",
       "    }\n",
       "\n",
       "    .dataframe tbody tr th {\n",
       "        vertical-align: top;\n",
       "    }\n",
       "\n",
       "    .dataframe thead th {\n",
       "        text-align: right;\n",
       "    }\n",
       "</style>\n",
       "<table border=\"1\" class=\"dataframe\">\n",
       "  <thead>\n",
       "    <tr style=\"text-align: right;\">\n",
       "      <th></th>\n",
       "      <th>コミュニケーション</th>\n",
       "      <th>リーダーシップ</th>\n",
       "      <th>プログラミング</th>\n",
       "      <th>ネットワーク知識</th>\n",
       "      <th>セキュリティ知識</th>\n",
       "    </tr>\n",
       "    <tr>\n",
       "      <th>グループ名</th>\n",
       "      <th></th>\n",
       "      <th></th>\n",
       "      <th></th>\n",
       "      <th></th>\n",
       "      <th></th>\n",
       "    </tr>\n",
       "  </thead>\n",
       "  <tbody>\n",
       "    <tr>\n",
       "      <th>0</th>\n",
       "      <td>7.500000</td>\n",
       "      <td>6.750000</td>\n",
       "      <td>9.250000</td>\n",
       "      <td>9.000000</td>\n",
       "      <td>8.750000</td>\n",
       "    </tr>\n",
       "    <tr>\n",
       "      <th>1</th>\n",
       "      <td>5.000000</td>\n",
       "      <td>4.000000</td>\n",
       "      <td>6.200000</td>\n",
       "      <td>6.200000</td>\n",
       "      <td>6.400000</td>\n",
       "    </tr>\n",
       "    <tr>\n",
       "      <th>2</th>\n",
       "      <td>8.666667</td>\n",
       "      <td>9.333333</td>\n",
       "      <td>5.333333</td>\n",
       "      <td>6.333333</td>\n",
       "      <td>7.333333</td>\n",
       "    </tr>\n",
       "    <tr>\n",
       "      <th>3</th>\n",
       "      <td>2.333333</td>\n",
       "      <td>2.000000</td>\n",
       "      <td>4.333333</td>\n",
       "      <td>4.000000</td>\n",
       "      <td>3.666667</td>\n",
       "    </tr>\n",
       "  </tbody>\n",
       "</table>\n",
       "</div>"
      ],
      "text/plain": [
       "       コミュニケーション   リーダーシップ   プログラミング  ネットワーク知識  セキュリティ知識\n",
       "グループ名                                                   \n",
       "0       7.500000  6.750000  9.250000  9.000000  8.750000\n",
       "1       5.000000  4.000000  6.200000  6.200000  6.400000\n",
       "2       8.666667  9.333333  5.333333  6.333333  7.333333\n",
       "3       2.333333  2.000000  4.333333  4.000000  3.666667"
      ]
     },
     "execution_count": 4,
     "metadata": {},
     "output_type": "execute_result"
    }
   ],
   "source": [
    "df_calc = df.copy()\n",
    "df_calc[\"グループ名\"] = group_num\n",
    "df_calc.groupby(\"グループ名\").mean()"
   ]
  },
  {
   "cell_type": "code",
   "execution_count": 5,
   "id": "20fcb20d-0bdf-4acf-a4ff-545d1ecfb8cc",
   "metadata": {},
   "outputs": [
    {
     "data": {
      "image/png": "[encoded data removed]",
      "text/plain": [
       "<Figure size 360x360 with 1 Axes>"
      ]
     },
     "metadata": {},
     "output_type": "display_data"
    }
   ],
   "source": [
    "#前回の\n",
    "from sklearn.decomposition import TruncatedSVD\n",
    "\n",
    "model_svd = TruncatedSVD(n_components = 2 )\n",
    "vecs_list = model_svd.fit_transform(df)\n",
    "\n",
    "X = vecs_list[:,0]\n",
    "Y = vecs_list[:,1]\n",
    "\n",
    "sns.set(font=\"Meiryo\")\n",
    "plt.figure(figsize=(5,5))\n",
    "\n",
    "color_codes = {0:\"red\",1:\"blue\",2:\"green\",3:\"yellow\"}\n",
    "colors = [color_codes[x] for x in group_num]\n",
    "plt.scatter(X,Y,color = colors)\n",
    "\n",
    "for i,(x_name,y_name) in enumerate(zip(X,Y)):\n",
    "    plt.annotate(df.index[i],(x_name,y_name))\n",
    "plt.show()"
   ]
  },
  {
   "cell_type": "code",
   "execution_count": null,
   "id": "a2a62fd6-a47f-4210-9af3-a537cdf77b30",
   "metadata": {
    "slideshow": {
     "slide_type": "notes"
    },
    "tags": [
     "機械学習",
     "クラスタリング",
     "K-means法"
    ]
   },
   "outputs": [],
   "source": []
  },
  {
   "cell_type": "code",
   "execution_count": null,
   "id": "e6e34cea-0d87-4adf-96e5-23bbe2a5a9d7",
   "metadata": {},
   "outputs": [],
   "source": []
  }
 ],
 "metadata": {
  "kernelspec": {
   "display_name": "Python 3 (ipykernel)",
   "language": "python",
   "name": "python3"
  },
  "language_info": {
   "codemirror_mode": {
    "name": "ipython",
    "version": 3
   },
   "file_extension": ".py",
   "mimetype": "text/x-python",
   "name": "python",
   "nbconvert_exporter": "python",
   "pygments_lexer": "ipython3",
   "version": "3.10.1"
  }
 },
 "nbformat": 4,
 "nbformat_minor": 5
}
