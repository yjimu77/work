{
 "cells": [
  {
   "cell_type": "markdown",
   "id": "8c39abfb-5cc5-4781-ae41-f2e99794f3b4",
   "metadata": {
    "tags": [
     "機械学習"
    ]
   },
   "source": [
    "# 機械学習 \n",
    "[Pythonで階層型クラスタリングをしてみよう(ウォード法など)【Python機械学習#3】](https://www.youtube.com/watch?v=lDsTkp5COqo&list=PL_tQOEJCWOE5ScOzRwyTGEAAZg_RQhM_r)"
   ]
  },
  {
   "cell_type": "code",
   "execution_count": 2,
   "id": "3946cab4-fdba-44e2-a7d9-35c182e45cb5",
   "metadata": {
    "tags": [
     "seaborn",
     "matplotlib"
    ]
   },
   "outputs": [],
   "source": [
    "#2022/03/23\n",
    "#階層型クラスタリング\n",
    "import pandas as pd\n",
    "import seaborn as sns\n",
    "import matplotlib.pyplot as plt\n",
    "#データ読み込み\n",
    "df = pd.read_csv(\"./data/skill_level.csv\", index_col = 0 )"
   ]
  },
  {
   "cell_type": "code",
   "execution_count": 3,
   "id": "ff49bf7b-ff5c-4671-abc8-c0978edb1bb4",
   "metadata": {
    "tags": [
     "dendrogram",
     "linkage"
    ]
   },
   "outputs": [],
   "source": [
    "from scipy.cluster.hierarchy import linkage,dendrogram,fcluster"
   ]
  },
  {
   "cell_type": "code",
   "execution_count": 7,
   "id": "4ae705da-7d37-4453-877d-65336b0a33e7",
   "metadata": {
    "tags": [
     "linkage",
     "ウォード法",
     "dendrogram",
     "機械学習"
    ]
   },
   "outputs": [
    {
     "data": {
      "image/png": "[encoded data removed]",
      "text/plain": [
       "<Figure size 432x288 with 1 Axes>"
      ]
     },
     "metadata": {},
     "output_type": "display_data"
    }
   ],
   "source": [
    "linkage_result = linkage(df,method=\"ward\" ,metric=\"euclidean\" )\n",
    "\n",
    "sns.set()\n",
    "dendrogram(linkage_result,labels=df.index)\n",
    "plt.show()"
   ]
  },
  {
   "cell_type": "code",
   "execution_count": null,
   "id": "f4167153-2ba6-4aa5-a362-059a3f6f3709",
   "metadata": {},
   "outputs": [],
   "source": []
  }
 ],
 "metadata": {
  "kernelspec": {
   "display_name": "Python 3 (ipykernel)",
   "language": "python",
   "name": "python3"
  },
  "language_info": {
   "codemirror_mode": {
    "name": "ipython",
    "version": 3
   },
   "file_extension": ".py",
   "mimetype": "text/x-python",
   "name": "python",
   "nbconvert_exporter": "python",
   "pygments_lexer": "ipython3",
   "version": "3.10.1"
  },
  "toc-showcode": false,
  "toc-showmarkdowntxt": true,
  "toc-showtags": true
 },
 "nbformat": 4,
 "nbformat_minor": 5
}
