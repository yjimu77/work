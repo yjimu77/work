{
 "cells": [
  {
   "cell_type": "markdown",
   "id": "74dfc405-5a66-44c9-9107-c2d63a1d8b8a",
   "metadata": {},
   "source": [
    "<h2><a href='https://www.youtube.com/watch?v=_F6-TgtInTA&t=168s'>クラスの継承</a></h2>\n",
    "参考：<a href='https://www.youtube.com/watch?v=XWxcxchJgbI'>オブジェクト指向 </a>\n",
    "<hr>\n",
    "<b>継承とは？</b>\n",
    "<li>基底クラス（親クラス、スーパークラス）の性質を\n",
    "<li>派生クラス（子クラス、サブクラス）が引き継ぐ\n",
    "<hr>\n"
   ]
  },
  {
   "cell_type": "code",
   "execution_count": null,
   "id": "84e62d46-4eb6-461c-9260-f1a66b3eab7d",
   "metadata": {},
   "outputs": [],
   "source": [
    "#サンプル\n",
    "class HumanClass:\n",
    "    def __init__(self):\n",
    "        self.hp = 100\n",
    "    def defend(self):\n",
    "        print('防御しました')\n",
    "\n",
    "class WizardClass(HumanClass):\n",
    "    def __init__(self):\n",
    "        #基底クラスからのイニシャライザ呼び出し\n",
    "        super().__init__()\n",
    "    def xxxxxxx(self):\n",
    "        self.defend()"
   ]
  },
  {
   "cell_type": "code",
   "execution_count": null,
   "id": "322d3989-dd12-473d-831c-f2140af5265c",
   "metadata": {},
   "outputs": [],
   "source": [
    "#多重継承\n",
    "class WizardClass:\n",
    "    pass\n",
    "class SwordFighterClass:\n",
    "    pass\n",
    "class MagicSwordFighterClass(\n",
    "    WizardClasss, SwordFighterClass):\n",
    "    pass"
   ]
  },
  {
   "cell_type": "markdown",
   "id": "630b1dd4-006c-4097-a761-ffafab3e23e2",
   "metadata": {},
   "source": [
    "<b>Mixin</b><br>\n",
    "・インスタンス変数を持たない<br>\n",
    "・他のクラスと合わせて使う<br>\n",
    "<b>data class</b><br>\n",
    "・データ格納用のクラス<br>"
   ]
  },
  {
   "cell_type": "code",
   "execution_count": 7,
   "id": "b145440d-e5bc-4eb2-8e99-53c6b8f0daa2",
   "metadata": {},
   "outputs": [
    {
     "name": "stdout",
     "output_type": "stream",
     "text": [
      "HumanClassのinit\n",
      "現在のHPは100で、MPは50です\n"
     ]
    }
   ],
   "source": [
    "class HumanClass:\n",
    "    def __init__(self):\n",
    "        print('HumanClassのinit')\n",
    "        self.hp = 100\n",
    "    def defend(self):\n",
    "        print('防御しました')\n",
    "        \n",
    "class WizardClass(HumanClass):\n",
    "    def __init__(self):\n",
    "        super().__init__()\n",
    "        self.mp = 50\n",
    "        \n",
    "    def output_info(self):\n",
    "        print(f'現在のHPは{self.hp}で、'\n",
    "                f'MPは{self.mp}です')\n",
    "\n",
    "wizard = WizardClass()\n",
    "wizard.output_info()"
   ]
  },
  {
   "cell_type": "code",
   "execution_count": null,
   "id": "a0968918-ca24-41e6-9a7d-7c14b51897fd",
   "metadata": {},
   "outputs": [],
   "source": []
  }
 ],
 "metadata": {
  "kernelspec": {
   "display_name": "Python 3 (ipykernel)",
   "language": "python",
   "name": "python3"
  },
  "language_info": {
   "codemirror_mode": {
    "name": "ipython",
    "version": 3
   },
   "file_extension": ".py",
   "mimetype": "text/x-python",
   "name": "python",
   "nbconvert_exporter": "python",
   "pygments_lexer": "ipython3",
   "version": "3.10.1"
  }
 },
 "nbformat": 4,
 "nbformat_minor": 5
}
