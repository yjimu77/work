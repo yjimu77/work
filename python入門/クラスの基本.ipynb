{
 "cells": [
  {
   "cell_type": "markdown",
   "id": "a43df577-1a2b-4e37-ae1e-dab43c9c113f",
   "metadata": {},
   "source": [
    "<h2><a href='https://www.youtube.com/watch?v=zvxYA38yx9o&list=PLiaZfx-34L5oK_8hLi_jbmFfZgZoGCqnr&index=13'>クラス</a></h2>\n",
    "<hr>\n",
    "<pre>\n",
    "クラス＝設計図\n",
    "<b>クラスの定義</b>\n",
    "class クラス名:\n",
    "     変数名=値               #クラス変数（クラス共通の値）\n",
    "     def メソッド名(self, 引数, ...)\n",
    "         #処理\n",
    "     def メソッド名(self, 引数, ...)\n",
    "         #処理\n",
    "     def __init__(self, 引数, ...)\n",
    "         self.変数名=引数      #インスタンス変数（いわゆる初期化処理）インスタンス毎に違う値になる\n",
    "         #イニシャライザ\n",
    "         #インスタンス作成時に1回だけ呼ばれる\n",
    "#インスタンス変数とクラス変数をまとめて「属性」と言う\n",
    "クラスのメソッド第一引数はself(selfは自分自身（インスタンス）)\n",
    "\n",
    "\n",
    "■インスタンスの生成\n",
    "インスタンス名=クラス名（引数１,...）    #引数１はイニシャライザに渡す引数\n",
    "\n",
    "■メソッド・属性\n",
    "インスタンス.メソッド（引数１,...）\n",
    "インスタンス.インスタンス変数名\n",
    "インスタンス.クラス変数名\n",
    "■クラス\n",
    "・基底クラス\n",
    "・インターフェース\n",
    "・継承\n",
    "・ジェネリティクス\n",
    "・データクラス\n",
    "</pre>"
   ]
  },
  {
   "cell_type": "code",
   "execution_count": 4,
   "id": "6231910b-6123-4b7a-bfbc-9818af56c30f",
   "metadata": {},
   "outputs": [
    {
     "name": "stdout",
     "output_type": "stream",
     "text": [
      "24.444444444444443\n"
     ]
    }
   ],
   "source": [
    "class BodyCondition:\n",
    "    def __init__(self, arg_weight, arg_height):\n",
    "        self.weight = arg_weight\n",
    "        self.height = arg_height\n",
    "\n",
    "    def bmi_calc(self):\n",
    "        m_height = self.height / 100\n",
    "        bmi = self.weight / m_height / m_height\n",
    "        print(bmi)\n",
    "        \n",
    "bc = BodyCondition(55,150)\n",
    "bc.bmi_calc()\n",
    "\n",
    "#bc.bmi_calc()"
   ]
  },
  {
   "cell_type": "code",
   "execution_count": 16,
   "id": "945ee25d-e2ab-4b8a-8c6d-bf4ab7cb27bf",
   "metadata": {},
   "outputs": [
    {
     "name": "stdout",
     "output_type": "stream",
     "text": [
      "Aさんの3教科平均点：60.0\n"
     ]
    }
   ],
   "source": [
    "class SchoolReport:\n",
    "    def __init__(self, student_name, math_score, jp_score, en_score ):\n",
    "        self.student_name = student_name\n",
    "        self.math_score = math_score\n",
    "        self.jp_score = jp_score\n",
    "        self.en_score = en_score\n",
    "        \n",
    "    def calc_avg_score(self):\n",
    "        sum_score = (self.math_score + self.jp_score + self.en_score )\n",
    "        avg_score = sum_score / 3\n",
    "        return avg_score\n",
    "    \n",
    "sr_a = SchoolReport('田中A', 100, 30, 50)\n",
    "avg_a = sr_a.calc_avg_score()\n",
    "#sr_b = SchoolReport('鈴木B')\n",
    "#sr_c = SchoolReport('斎藤C')\n",
    "print(f'Aさんの3教科平均点：{avg_a}')\n",
    "#print(sr_b.student_name)\n",
    "#print(sr_c.student_name)"
   ]
  },
  {
   "cell_type": "code",
   "execution_count": null,
   "id": "11235136-33a0-4893-97fc-ae9059ef8ef2",
   "metadata": {},
   "outputs": [],
   "source": []
  }
 ],
 "metadata": {
  "kernelspec": {
   "display_name": "Python 3 (ipykernel)",
   "language": "python",
   "name": "python3"
  },
  "language_info": {
   "codemirror_mode": {
    "name": "ipython",
    "version": 3
   },
   "file_extension": ".py",
   "mimetype": "text/x-python",
   "name": "python",
   "nbconvert_exporter": "python",
   "pygments_lexer": "ipython3",
   "version": "3.10.1"
  }
 },
 "nbformat": 4,
 "nbformat_minor": 5
}
