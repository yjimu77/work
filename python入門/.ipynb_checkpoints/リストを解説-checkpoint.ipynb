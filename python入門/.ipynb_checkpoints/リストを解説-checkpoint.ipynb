{
 "cells": [
  {
   "cell_type": "markdown",
   "id": "b5784611-de20-419c-94ef-8e18459d4db6",
   "metadata": {},
   "source": [
    "Pythonプログラミング入門 リストを解説<br>\n",
    "https://www.youtube.com/watch?v=Y1kdB91vyFU&list=PLiaZfx-34L5oK_8hLi_jbmFfZgZoGCqnr&index=7"
   ]
  },
  {
   "cell_type": "code",
   "execution_count": 2,
   "id": "8bb9345f-b379-4472-9a97-a453c970f6a7",
   "metadata": {},
   "outputs": [
    {
     "name": "stdout",
     "output_type": "stream",
     "text": [
      "3\n",
      "b\n"
     ]
    }
   ],
   "source": [
    "x = ['a', 'b', 100]\n",
    "print(len(x))\n",
    "print(x[1])"
   ]
  },
  {
   "cell_type": "code",
   "execution_count": 4,
   "id": "60ec4aae-b5ce-451a-bb76-65f56fee5d8f",
   "metadata": {},
   "outputs": [],
   "source": [
    "#x.append('e')\n",
    "x.remove('b')"
   ]
  },
  {
   "cell_type": "code",
   "execution_count": 7,
   "id": "8b839560-5e3e-45a7-8d6b-869f188218c2",
   "metadata": {},
   "outputs": [],
   "source": [
    "y = ['e', 'f']\n",
    "x.extend(y)\n",
    "\n",
    "z = x + y"
   ]
  },
  {
   "cell_type": "code",
   "execution_count": 8,
   "id": "a6841246-e083-4e94-aa28-b666b83825c3",
   "metadata": {},
   "outputs": [
    {
     "name": "stdout",
     "output_type": "stream",
     "text": [
      "['a', 100, 'e', 'e', 'f', 'e', 'f', 'e', 'f']\n"
     ]
    }
   ],
   "source": [
    "print(z)"
   ]
  },
  {
   "cell_type": "markdown",
   "id": "67936e76-8059-4866-9404-7e3cf16b3f8a",
   "metadata": {},
   "source": [
    "リストの分割<br>\n",
    "[ 0 1 2 3 4 5 ]<br>\n",
    " 0 1 2 3 4 5 6<br>\n",
    "list_name[1:3]<br>\n",
    "<br>\n",
    "list_name['a', 'b', 'c', 'd', 'e']<br>\n",
    "list_name[1:4]=>['b', 'c', 'd']"
   ]
  },
  {
   "cell_type": "code",
   "execution_count": 13,
   "id": "888278c5-e42c-4f13-8eaa-901442874815",
   "metadata": {},
   "outputs": [
    {
     "name": "stdout",
     "output_type": "stream",
     "text": [
      "['b', 'c']\n"
     ]
    }
   ],
   "source": [
    "list_name=['a', 'b', 'c', 'd', 'e']\n",
    "print(list_name[1:3])"
   ]
  }
 ],
 "metadata": {
  "kernelspec": {
   "display_name": "Python 3 (ipykernel)",
   "language": "python",
   "name": "python3"
  },
  "language_info": {
   "codemirror_mode": {
    "name": "ipython",
    "version": 3
   },
   "file_extension": ".py",
   "mimetype": "text/x-python",
   "name": "python",
   "nbconvert_exporter": "python",
   "pygments_lexer": "ipython3",
   "version": "3.10.1"
  }
 },
 "nbformat": 4,
 "nbformat_minor": 5
}
