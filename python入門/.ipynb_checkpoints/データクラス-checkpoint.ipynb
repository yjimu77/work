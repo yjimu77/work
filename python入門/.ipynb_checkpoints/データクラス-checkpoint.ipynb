{
 "cells": [
  {
   "cell_type": "markdown",
   "id": "70963cc1-c741-4bc9-b791-b2e1025faf86",
   "metadata": {},
   "source": [
    "<h2><a href='https://www.youtube.com/watch?v=YkAA3No2erM&t=4s'>data class</a></h2>\n",
    "データを格納するのに特化したクラス"
   ]
  },
  {
   "cell_type": "code",
   "execution_count": 1,
   "id": "85bb20c5-2ff6-4992-ae3a-79d4140920bc",
   "metadata": {},
   "outputs": [],
   "source": [
    "from dataclasses import dataclass\n",
    "\n",
    "@dataclass     #<-デコレータ\n",
    "class XXXX:\n",
    "    pass"
   ]
  },
  {
   "cell_type": "code",
   "execution_count": 6,
   "id": "c3e14003-541a-468c-9e9e-a15e11211b5c",
   "metadata": {},
   "outputs": [
    {
     "name": "stdout",
     "output_type": "stream",
     "text": [
      "['note', 'pen']\n"
     ]
    }
   ],
   "source": [
    "'''\n",
    "class User:\n",
    "    def __init__(self, name):\n",
    "        self.name = name\n",
    "        \n",
    "@dataclass\n",
    "class User:\n",
    "    nama:str\n",
    "'''    \n",
    "#データクラスの書き方\n",
    "from dataclasses import field, dataclass\n",
    "@dataclass\n",
    "class User:\n",
    "    name:str\n",
    "    age:int\n",
    "    items: list[int] = field(default_factory=lambda: ['note', 'pen'])\n",
    "\n",
    "user = User('supu', 10)\n",
    "print(user.items)\n",
    "    "
   ]
  },
  {
   "cell_type": "code",
   "execution_count": 5,
   "id": "7422f316-b8d8-4bed-8a88-100af7006f0a",
   "metadata": {},
   "outputs": [],
   "source": [
    "#frozen\n",
    "#データクラスの書き方\n",
    "from dataclasses import field, dataclass\n",
    "\n",
    "@dataclass(frozen=True)\n",
    "class User:\n",
    "    name: str\n",
    "    age: int\n",
    "    \n",
    "user = User('supu', 20)\n",
    "#user.age = 21"
   ]
  },
  {
   "cell_type": "code",
   "execution_count": 9,
   "id": "83c5f09a-249a-47fd-9214-a4ea9c44d8ed",
   "metadata": {},
   "outputs": [
    {
     "name": "stdout",
     "output_type": "stream",
     "text": [
      "True\n"
     ]
    }
   ],
   "source": [
    "#== フィールドの一致確認\n",
    "@dataclass(frozen=True)\n",
    "class User:\n",
    "    name: str\n",
    "\n",
    "user1 = User('supu')\n",
    "user2 = User('supu')\n",
    "print( user1 == user2 )"
   ]
  },
  {
   "cell_type": "code",
   "execution_count": 11,
   "id": "d9bb9ba8-1506-441c-b87e-2b81a783a14a",
   "metadata": {},
   "outputs": [
    {
     "name": "stdout",
     "output_type": "stream",
     "text": [
      "{'name': 'supu'}\n"
     ]
    }
   ],
   "source": [
    "#asdict で辞書に変換\n",
    "import dataclasses\n",
    "@dataclass\n",
    "class User:\n",
    "    name: str\n",
    "    \n",
    "user = User('supu')\n",
    "result = dataclasses.asdict(user)\n",
    "print(result)"
   ]
  },
  {
   "cell_type": "code",
   "execution_count": null,
   "id": "26bfd9c0-1798-43ab-b7cf-7aaa7ab03ea9",
   "metadata": {},
   "outputs": [],
   "source": []
  }
 ],
 "metadata": {
  "kernelspec": {
   "display_name": "Python 3 (ipykernel)",
   "language": "python",
   "name": "python3"
  },
  "language_info": {
   "codemirror_mode": {
    "name": "ipython",
    "version": 3
   },
   "file_extension": ".py",
   "mimetype": "text/x-python",
   "name": "python",
   "nbconvert_exporter": "python",
   "pygments_lexer": "ipython3",
   "version": "3.10.1"
  }
 },
 "nbformat": 4,
 "nbformat_minor": 5
}
