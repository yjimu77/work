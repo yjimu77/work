{
 "cells": [
  {
   "cell_type": "markdown",
   "id": "e0a579a6-2405-4ff6-b07e-e902c943d1fd",
   "metadata": {},
   "source": [
    "辞書について<br>\n",
    "https://www.youtube.com/watch?v=qt1g5rZXbjY&list=PLiaZfx-34L5oK_8hLi_jbmFfZgZoGCqnr&index=8"
   ]
  },
  {
   "cell_type": "markdown",
   "id": "4c9bb31b-6826-4e9f-a979-5a390be68f47",
   "metadata": {},
   "source": [
    "<h3>辞書型の変数</h3>\n",
    "キーと値がペアになっている<br>\n",
    "りんご：120<br>\n",
    "バナナ：300<br>\n",
    "いちご：450<br>"
   ]
  },
  {
   "cell_type": "code",
   "execution_count": 6,
   "id": "5615fb01-3f2d-4e32-a138-70dcb1681c59",
   "metadata": {},
   "outputs": [
    {
     "name": "stdout",
     "output_type": "stream",
     "text": [
      "120\n"
     ]
    }
   ],
   "source": [
    "x = {'リンゴ':120,'バナナ':300 , 'いちご':450}\n",
    "print(x['リンゴ'])\n",
    "x['いちご']=400"
   ]
  },
  {
   "cell_type": "code",
   "execution_count": 14,
   "id": "73cc011b-d553-4025-8c4d-020b8c39dc04",
   "metadata": {},
   "outputs": [
    {
     "name": "stdout",
     "output_type": "stream",
     "text": [
      "{'リンゴ': 120, 'バナナ': 300, 'いちご': 400, 'トマト': 280, '梨': 150}\n",
      "{'リンゴ': 120, 'バナナ': 300, 'いちご': 400, 'トマト': 280, '梨': 150}\n",
      "5\n"
     ]
    }
   ],
   "source": [
    "y = {'トマト':280 ,'梨':150 }\n",
    "x.update(y)\n",
    "print(x)\n",
    "#以下はpython 3.9以上のみ対応\n",
    "z = x | y\n",
    "print(z)\n",
    "print(len(z))"
   ]
  }
 ],
 "metadata": {
  "kernelspec": {
   "display_name": "Python 3 (ipykernel)",
   "language": "python",
   "name": "python3"
  },
  "language_info": {
   "codemirror_mode": {
    "name": "ipython",
    "version": 3
   },
   "file_extension": ".py",
   "mimetype": "text/x-python",
   "name": "python",
   "nbconvert_exporter": "python",
   "pygments_lexer": "ipython3",
   "version": "3.10.1"
  }
 },
 "nbformat": 4,
 "nbformat_minor": 5
}
