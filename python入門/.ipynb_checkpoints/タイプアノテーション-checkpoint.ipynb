{
 "cells": [
  {
   "cell_type": "markdown",
   "id": "be48b7d5-9ee1-41fb-9c3f-2bcac511e289",
   "metadata": {},
   "source": [
    "<h2><a href='https://www.youtube.com/watch?v=ml_2iJW45Bo&t=2s'>タイプアノテーション</a></h2>\n",
    "(型ヒント) アノテーション＝注釈・説明\n",
    "<pre>\n",
    "(復習)\n",
    "関数の引数のデフォルト値\n",
    "def xxxxxxx(arg1=100):\n",
    "    print(arg1)\n",
    "\n",
    "from typing import List\n",
    "\n",
    "def xxxxx(x1:List[int],  #<- リスト\n",
    "               x2:dict,        #<- 辞書\n",
    "               x3:float,       #<- 浮動小数点\n",
    "               x4:set,         #<- 集合\n",
    "               x5:tuple       #<- タプル\n",
    "     ) -> None:\n",
    "     print(x1,x2,x3,x4,x5)\n",
    "\n",
    "</pre>"
   ]
  },
  {
   "cell_type": "code",
   "execution_count": 12,
   "id": "47728a8c-99af-4f58-b837-9638b22ab293",
   "metadata": {},
   "outputs": [
    {
     "name": "stdout",
     "output_type": "stream",
     "text": [
      "\\12,000\n"
     ]
    }
   ],
   "source": [
    "#１つの商品の合計価格\n",
    "#args\n",
    "#unit_price:単価\n",
    "#quantity:数量\n",
    "def total_price_1item(unit_price:int,quantity:int=1)->str:\n",
    "    total = unit_price * quantity\n",
    "    return f'\\{total:,}'\n",
    "\n",
    "#total_price_1item(120,1)\n",
    "print(total_price_1item(12000,1))"
   ]
  },
  {
   "cell_type": "code",
   "execution_count": null,
   "id": "ee1c8400-877e-4ade-b2aa-68a6d1771fdd",
   "metadata": {},
   "outputs": [],
   "source": []
  }
 ],
 "metadata": {
  "kernelspec": {
   "display_name": "Python 3 (ipykernel)",
   "language": "python",
   "name": "python3"
  },
  "language_info": {
   "codemirror_mode": {
    "name": "ipython",
    "version": 3
   },
   "file_extension": ".py",
   "mimetype": "text/x-python",
   "name": "python",
   "nbconvert_exporter": "python",
   "pygments_lexer": "ipython3",
   "version": "3.10.1"
  }
 },
 "nbformat": 4,
 "nbformat_minor": 5
}
