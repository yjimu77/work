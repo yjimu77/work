{
 "cells": [
  {
   "cell_type": "markdown",
   "id": "f7a47a68-1dc3-4690-9a76-31df16b944a4",
   "metadata": {},
   "source": [
    "<h3><a href='https://www.youtube.com/watch?v=OKIG2FB_5Ak&list=PLiaZfx-34L5oK_8hLi_jbmFfZgZoGCqnr&index=12'>関数について</a></h3>\n",
    "<h4>関数の基本</h4>"
   ]
  },
  {
   "cell_type": "code",
   "execution_count": 1,
   "id": "bd58fddd-4050-41f9-9714-1ca63a050a11",
   "metadata": {},
   "outputs": [],
   "source": [
    "#辞書（5教科の得点）\n",
    "first_scores = {'数学':80,'国語':70,'英語':85,'理科':96,'社会':72}\n",
    "second_scores = {'数学':86,'国語':77,'英語':70,'理科':90,'社会':82}"
   ]
  },
  {
   "cell_type": "code",
   "execution_count": 2,
   "id": "88cf04da-a41f-4cdb-9d79-69e9472516d2",
   "metadata": {},
   "outputs": [
    {
     "name": "stdout",
     "output_type": "stream",
     "text": [
      "banana\n"
     ]
    }
   ],
   "source": [
    "def print_banana():\n",
    "    #ここから関数の処理\n",
    "    print('banana')\n",
    "    \n",
    "print_banana()"
   ]
  },
  {
   "cell_type": "code",
   "execution_count": 6,
   "id": "dea28d69-1aae-4971-a545-25398e709de1",
   "metadata": {},
   "outputs": [
    {
     "name": "stdout",
     "output_type": "stream",
     "text": [
      "80.6\n",
      "81.0\n"
     ]
    }
   ],
   "source": [
    "#点数辞書から平均値を計算する\n",
    "def mean_scores(scores: dict):\n",
    "    score_values = scores.values()\n",
    "    return sum(score_values) / len(score_values) if score_values else None\n",
    "\n",
    "print(mean_scores(first_scores))\n",
    "print(mean_scores(second_scores))"
   ]
  },
  {
   "cell_type": "markdown",
   "id": "b420fbc4-a309-4ed7-bb16-39686d45b804",
   "metadata": {},
   "source": [
    "その他<br>\n",
    "<a href='https://www.youtube.com/watch?v=ml_2iJW45Bo&t=2s'>タイプアノテーション</a><br>\n",
    "デフォルト引数<br>\n",
    "可変長引数<br>\n",
    "無名関数<br>"
   ]
  },
  {
   "cell_type": "code",
   "execution_count": null,
   "id": "ad7dcea7-b54f-4fc2-bbfd-384a07371837",
   "metadata": {},
   "outputs": [],
   "source": []
  }
 ],
 "metadata": {
  "kernelspec": {
   "display_name": "Python 3 (ipykernel)",
   "language": "python",
   "name": "python3"
  },
  "language_info": {
   "codemirror_mode": {
    "name": "ipython",
    "version": 3
   },
   "file_extension": ".py",
   "mimetype": "text/x-python",
   "name": "python",
   "nbconvert_exporter": "python",
   "pygments_lexer": "ipython3",
   "version": "3.10.1"
  }
 },
 "nbformat": 4,
 "nbformat_minor": 5
}
