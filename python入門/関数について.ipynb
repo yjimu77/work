{
 "cells": [
  {
   "cell_type": "markdown",
   "id": "f7a47a68-1dc3-4690-9a76-31df16b944a4",
   "metadata": {},
   "source": [
    "<h3><a href='https://www.youtube.com/watch?v=OKIG2FB_5Ak&list=PLiaZfx-34L5oK_8hLi_jbmFfZgZoGCqnr&index=12'>関数について</a></h3>\n",
    "<h4>関数の基本</h4>"
   ]
  },
  {
   "cell_type": "code",
   "execution_count": 2,
   "id": "bd58fddd-4050-41f9-9714-1ca63a050a11",
   "metadata": {},
   "outputs": [],
   "source": [
    "#辞書（5教科の得点）\n",
    "first_scores = {'数学':80,'国語':70,'英語':85,'理科':96,'社会':72}\n",
    "second_scores = {'数学':86,'国語':77,'英語':70,'理科':90,'社会':82}"
   ]
  },
  {
   "cell_type": "code",
   "execution_count": 4,
   "id": "88cf04da-a41f-4cdb-9d79-69e9472516d2",
   "metadata": {},
   "outputs": [
    {
     "name": "stdout",
     "output_type": "stream",
     "text": [
      "banana\n"
     ]
    }
   ],
   "source": [
    "def print_banana():\n",
    "    #ここから関数の処理\n",
    "    print('banana')\n",
    "    \n",
    "print_banana()"
   ]
  }
 ],
 "metadata": {
  "kernelspec": {
   "display_name": "Python 3 (ipykernel)",
   "language": "python",
   "name": "python3"
  },
  "language_info": {
   "codemirror_mode": {
    "name": "ipython",
    "version": 3
   },
   "file_extension": ".py",
   "mimetype": "text/x-python",
   "name": "python",
   "nbconvert_exporter": "python",
   "pygments_lexer": "ipython3",
   "version": "3.10.1"
  }
 },
 "nbformat": 4,
 "nbformat_minor": 5
}
