{
 "cells": [
  {
   "cell_type": "code",
   "execution_count": 1,
   "id": "5654598d-56df-465b-a09b-55ece1479a84",
   "metadata": {},
   "outputs": [],
   "source": [
    "import pyautogui as pgui\n",
    "import time\n",
    "from PIL import ImageGrab"
   ]
  },
  {
   "cell_type": "markdown",
   "id": "07f7fe88-c431-4074-8cc4-6c0286415893",
   "metadata": {},
   "source": [
    "＞＞アクセス許可が必要<br>\n",
    "現在位置の取得"
   ]
  },
  {
   "cell_type": "code",
   "execution_count": 2,
   "id": "62061e89-da08-4a69-81e9-b9b825c377bc",
   "metadata": {},
   "outputs": [],
   "source": [
    "# pgui.position()"
   ]
  },
  {
   "cell_type": "code",
   "execution_count": 3,
   "id": "7a4d5e08-f878-440c-9363-5017b2571029",
   "metadata": {},
   "outputs": [],
   "source": [
    "pgui.click(x=349, y=64, duration=1)"
   ]
  },
  {
   "cell_type": "code",
   "execution_count": 4,
   "id": "5c273fe8-edbb-4eba-a640-df81f6fc0736",
   "metadata": {},
   "outputs": [],
   "source": [
    "screenshot = ImageGrab.grab()\n",
    "screenshot.save('sample.png')"
   ]
  },
  {
   "cell_type": "code",
   "execution_count": null,
   "id": "ccafd94a-200f-4690-83d8-962c382590be",
   "metadata": {},
   "outputs": [],
   "source": []
  },
  {
   "cell_type": "code",
   "execution_count": 5,
   "id": "2afdf57b-6797-4d76-b955-7d6a3d696882",
   "metadata": {},
   "outputs": [],
   "source": [
    "# pyautogui のscreenshotはなぜかエラーになる\n",
    "screenshot = pgui.screenshot(region=(100,100,100,100))\n",
    "screenshot.save('image/sample.png')"
   ]
  },
  {
   "cell_type": "code",
   "execution_count": null,
   "id": "1055632c-5d3b-4793-9d52-268a5352f102",
   "metadata": {},
   "outputs": [],
   "source": [
    "import pyautogui\n",
    "import time\n",
    "import win32gui\n",
    "import math\n",
    "import numpy.polynomial.polynomial as npp\n",
    "from PIL import ImageGrab\n",
    "\n",
    "def drawSpica(cx, cy, rounds=10, region=None, no=0):\n",
    "    durtm = 0.01\n",
    "    first_flg = False\n",
    "    mt1 = npp.polyfit([0,1], [60, 50], 1)\n",
    "    divround = 60\n",
    "    for r in range(0, rounds):\n",
    "        for rdiv in range(0, divround):\n",
    "            ab = r + rdiv / divround\n",
    "            angle = rdiv * 2 * math.pi / divround\n",
    "            rleng = npp.polyval(ab, mt1)\n",
    "            if rleng < 1:\n",
    "                break\n",
    "            x = int(rleng * math.cos(angle) + cx + 0.5)\n",
    "            y = int(rleng * math.sin(angle) + cy + 0.5)\n",
    "            if first_flg == False:\n",
    "                first_flg = True\n",
    "                pyautogui.click(x1+x, y1+y)\n",
    "                bx, by = x, y\n",
    "                continue\n",
    "            print(x1+x, y1+y, rleng)\n",
    "            pyautogui.dragRel(x-bx,  y-by, duration=durtm)\n",
    "            bx, by = x, y\n",
    "            if region is not None:\n",
    "                # screenshot = ImageGrab.grab(region = region)\n",
    "                screenshot = pyautogui.screenshot(region = region)\n",
    "                screenshot.save('image/img%03d.jpg' %(no+r))\n",
    "\n",
    "handle = win32gui.FindWindow(None,'無題 - ペイント')\n",
    "time.sleep(1)\n",
    "x1, y1, x2, y2 = win32gui.GetWindowRect(handle)\n",
    "print('(%d, %d) - (%d, %d)' % (x1, y1, x2, y2))\n",
    "win32gui.SetForegroundWindow(handle)\n",
    "time.sleep(1)\n",
    "\n",
    "pyautogui.click(x1+596, y1+68)  # 色選択\n",
    "time.sleep(1)\n",
    "pyautogui.click(x1+300, y1+300) \n",
    "\n",
    "# スクリーンショット\n",
    "screenshot = pyautogui.screenshot(region = (x1, y1, x2, y2))\n",
    "# screenshot = ImageGrab.grab(region = (x1, y1, x2, y2))\n",
    "screenshot.save('image/start.jpg')\n",
    "\n",
    "drawSpica(482, 236, rounds=5, region=(x1, y1, x2, y2), no=1000)\n",
    "time.sleep(1)\n",
    "\n",
    "pyautogui.moveTo(x1+487, y1+66)\n",
    "pyautogui.click()\n",
    "time.sleep(1)\n",
    "\n",
    "drawSpica(250, 400, no=2000,region = (x1, y1, x2, y2))\n",
    "\n",
    "# スクリーンショット\n",
    "# screenshot = ImageGrab.grab(region = (x1, y1, x2, y2))\n",
    "screenshot = pyautogui.screenshot(region = (x1, y1, x2, y2))\n",
    "screenshot.save('image/end.jpg')\n"
   ]
  },
  {
   "cell_type": "code",
   "execution_count": null,
   "id": "c73b5609-98ed-4749-82c0-ae80af18d555",
   "metadata": {},
   "outputs": [],
   "source": []
  },
  {
   "cell_type": "code",
   "execution_count": null,
   "id": "b62240cb-f2fd-4380-a13a-fd509717a103",
   "metadata": {},
   "outputs": [],
   "source": []
  }
 ],
 "metadata": {
  "kernelspec": {
   "display_name": "Python 3 (ipykernel)",
   "language": "python",
   "name": "python3"
  },
  "language_info": {
   "codemirror_mode": {
    "name": "ipython",
    "version": 3
   },
   "file_extension": ".py",
   "mimetype": "text/x-python",
   "name": "python",
   "nbconvert_exporter": "python",
   "pygments_lexer": "ipython3",
   "version": "3.10.1"
  }
 },
 "nbformat": 4,
 "nbformat_minor": 5
}
