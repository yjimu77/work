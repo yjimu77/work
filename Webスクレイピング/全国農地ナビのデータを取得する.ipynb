{
 "cells": [
  {
   "cell_type": "code",
   "execution_count": 9,
   "id": "cc2914a6-f08e-4aaf-a427-d89782ad955d",
   "metadata": {},
   "outputs": [],
   "source": [
    "from selenium import webdriver\n",
    "import pandas as pd\n",
    "from selenium.webdriver.support.select import Select\n",
    "#\n",
    "import sys\n",
    "sys.path.append(\"lib.bs4\")\n",
    "from bs4 import BeautifulSoup\n",
    "import requests\n",
    "import pandas as pd\n",
    "import time"
   ]
  },
  {
   "cell_type": "code",
   "execution_count": 10,
   "id": "295ddea6-508f-48df-90e2-53aa0833f37c",
   "metadata": {},
   "outputs": [],
   "source": [
    "browser = webdriver.Chrome( )\n",
    "browser.implicitly_wait(2)"
   ]
  },
  {
   "cell_type": "code",
   "execution_count": 11,
   "id": "8492856f-1409-400f-8061-2c48faaee9c9",
   "metadata": {},
   "outputs": [],
   "source": [
    "#検索するサイトへアクセス\n",
    "url_search = \"https://www.alis-ac.jp/FarmSearch\"\n",
    "browser.get(url_search)\n",
    "time.sleep(2)\n",
    "#print(\"検索ページにアクセスしました\")"
   ]
  },
  {
   "cell_type": "code",
   "execution_count": 12,
   "id": "e7a38c03-d37c-4238-8729-671e5391bd97",
   "metadata": {},
   "outputs": [],
   "source": [
    "#地目・面積から検索\n",
    "element = browser.find_element(by='xpath', value='//*[@id=\"SearchModeLandAreaTab\"]/a')\n",
    "element.click()\n",
    "time.sleep(2)\n",
    "#地目を選択\n",
    "element = browser.find_element(by='xpath', value='//*[@id=\"SearchLandCategory\" and @value=\"1\"]')\n",
    "element.click()\n",
    "time.sleep(2)\n",
    "#参照ボタン\n",
    "element = browser.find_element(by='id', value='addressLinkL')\n",
    "element.click()\n",
    "time.sleep(2)\n",
    "\n",
    "# ウィンドウハンドルを取得する(list型配列)\n",
    "handle_array = browser.window_handles\n",
    "# seleniumで操作可能なdriverを切り替える\n",
    "browser.switch_to.window(handle_array[1])\n",
    "element = browser.find_element(by='link text', value='滋賀県')\n",
    "element.click()\n",
    "time.sleep(2)\n",
    "\n",
    "element = browser.find_element(by='link text', value='甲賀市')\n",
    "element.click()\n",
    "time.sleep(2)\n",
    "\n",
    "element = browser.find_element(by='link text', value='水口町嶬峨')\n",
    "element.click()\n",
    "time.sleep(2)\n",
    "\n",
    "# seleniumで操作可能なdriverを切り替える\n",
    "browser.switch_to.window(handle_array[0])\n",
    "\n",
    "#検索して一覧を表示する 検索して一覧で表示する\n",
    "element = browser.find_element(by='link text', value='検索して一覧で表示する')\n",
    "element.click()\n",
    "\n",
    "#表示ページ数 //*[@id=\"MaxDataCountPerPage\"]\n",
    "element = browser.find_element(by='xpath', value='//*[@id=\"MaxDataCountPerPage\"]')\n",
    "select = Select(element)\n",
    "select.select_by_value('100')\n",
    "time.sleep(2)"
   ]
  },
  {
   "cell_type": "code",
   "execution_count": null,
   "id": "40888d78-0a09-4bc9-8707-e7a2e0972734",
   "metadata": {},
   "outputs": [],
   "source": [
    "html = browser.page_source.encode('utf-8')\n",
    "bsObj = BeautifulSoup(html,\"html.parser\")\n",
    "\n",
    "#テーブルを指定\n",
    "rows = bsObj.findAll(\"td\" )\n",
    "for row in rows:\n",
    "    print(row)\n",
    "#rows = table.findAll(\"tr\")\n",
    "#print(table)"
   ]
  },
  {
   "cell_type": "code",
   "execution_count": 15,
   "id": "d8126046-e72f-487c-bc4d-eb91aa4608da",
   "metadata": {},
   "outputs": [
    {
     "name": "stdout",
     "output_type": "stream",
     "text": [
      "次へ\n"
     ]
    },
    {
     "data": {
      "text/plain": [
       "'\\n参考リンク\\nhttps://teratail.com/questions/190125\\n詳細\\n<a href=\"javascript:void(0)\" onclick=\"submitFromLink(0, \\'/FarmInformation\\', { \\'ID\\': \\'191878522\\',\\u3000\\'SelectedFarmAddress\\': \\'滋賀県甲賀市水口町嶬峨字\\u3000川原田3308\\' }); return false;\" style=\"color: rgb(0, 0, 255);\">詳細</a>\\n//*[@id=\"search_result_list\"]/div[4]/table/tbody/tr[2]/td[1]/div/div/a\\n\\n次へ\\n//*[@id=\"search_result_list\"]/div[5]/ul/li[9]/a\\n各ページ\\n<span class=\"page\">1</span>\\n<a href=\"javascript:void(0)\" onclick=\"submitFromLink(0, \\'\\', { \\'Page\\': \\'2\\' }); return false;\" class=\"page\" style=\"color: rgb(0, 0, 255);\">2</a>\\n//*[@id=\"search_result_list\"]/div[5]/ul/li[4]/a\\n//*[@id=\"search_result_list\"]/div[5]/ul/li[5]/a\\n//*[@id=\"search_result_list\"]/div[5]/ul/li[6]/a\\n//*[@id=\"search_result_list\"]/div[5]/ul/li[7]/a\\n//*[@id=\"search_result_list\"]/div[5]/ul/li[8]/a\\n//*[@id=\"search_result_list\"]/div[5]/ul/li[10]/a\\n'"
      ]
     },
     "execution_count": 15,
     "metadata": {},
     "output_type": "execute_result"
    }
   ],
   "source": [
    "#[詳細]ループ\n",
    "<a href=\"javascript:void(0)\" onclick=\"submitFromLink(0, '/FarmInformation', { 'ID': '191878522',　'SelectedFarmAddress': '滋賀県甲賀市水口町嶬峨字　川原田3308' }); return false;\" style=\"color: rgb(0, 0, 255);\">詳細</a>\n",
    "#2ページ目\n",
    "i = 0\n",
    "while True:\n",
    "    i = i + 1\n",
    "    time.sleep(1)\n",
    "    #[次へ]ページ\n",
    "    for elem_next in browser.find_elements(by='xpath', value='//*[@id=\"search_result_list\"]/div[5]/ul/li[9]/a'):\n",
    "#        elem_a = elem_next.find_element(by='xpath', value='..') \n",
    "        print(elem_next.text)\n",
    "#        print(elem_a.get_attribute('href'))\n",
    "#    next_link = driver.find_element_by_id('pnnext')\n",
    "#    driver.get(next_link.get_attribute('href'))\n",
    "    if i > 0:\n",
    "        break\n",
    "#次へページ\n",
    "#elem_list = browser.find_elements(by='xpath', value='//*[@id=\"search_result_list\"]/div[5]/ul/li[9]/a')\n",
    "elem = browser.find_element(by='class name', value='next')\n",
    "browser.execute_script(\"submitFromLink(0, '', { 'Page': '2' }); return false;\")\n",
    "\n",
    "#JavaScript実行\n",
    "##browser.execute_script(\"submitFromLink(0, '/FarmInformation', { 'ID': '191878522',　'SelectedFarmAddress': '滋賀県甲賀市水口町嶬峨字　川原田3308' });\")\n",
    "#elem_list.click() \n",
    "#elem_list = elem_div5.find_element(by='xpath', value='..') \n",
    "#driver.get(next_a.get_attribute('href'))\n",
    "\n",
    "\n",
    "'''\n",
    "参考リンク\n",
    "https://teratail.com/questions/190125\n",
    "詳細\n",
    "<a href=\"javascript:void(0)\" onclick=\"submitFromLink(0, '/FarmInformation', { 'ID': '191878522',　'SelectedFarmAddress': '滋賀県甲賀市水口町嶬峨字　川原田3308' }); return false;\" style=\"color: rgb(0, 0, 255);\">詳細</a>\n",
    "//*[@id=\"search_result_list\"]/div[4]/table/tbody/tr[2]/td[1]/div/div/a\n",
    "\n",
    "次へ\n",
    "//*[@id=\"search_result_list\"]/div[5]/ul/li[9]/a\n",
    "各ページ\n",
    "<span class=\"page\">1</span>\n",
    "<a href=\"javascript:void(0)\" onclick=\"submitFromLink(0, '', { 'Page': '2' }); return false;\" class=\"page\" style=\"color: rgb(0, 0, 255);\">2</a>\n",
    "//*[@id=\"search_result_list\"]/div[5]/ul/li[4]/a\n",
    "//*[@id=\"search_result_list\"]/div[5]/ul/li[5]/a\n",
    "//*[@id=\"search_result_list\"]/div[5]/ul/li[6]/a\n",
    "//*[@id=\"search_result_list\"]/div[5]/ul/li[7]/a\n",
    "//*[@id=\"search_result_list\"]/div[5]/ul/li[8]/a\n",
    "//*[@id=\"search_result_list\"]/div[5]/ul/li[10]/a\n",
    "'''"
   ]
  },
  {
   "cell_type": "code",
   "execution_count": 99,
   "id": "cedf6b76-33d1-460a-9147-6f1e55c836b8",
   "metadata": {},
   "outputs": [
    {
     "ename": "StaleElementReferenceException",
     "evalue": "Message: stale element reference: element is not attached to the page document\n  (Session info: chrome=98.0.4758.102)\nStacktrace:\nBacktrace:\n\tOrdinal0 [0x00A769A3+2582947]\n\tOrdinal0 [0x00A0A6D1+2139857]\n\tOrdinal0 [0x00903A98+1063576]\n\tOrdinal0 [0x009062B7+1073847]\n\tOrdinal0 [0x0090617E+1073534]\n\tOrdinal0 [0x009063F0+1074160]\n\tOrdinal0 [0x009317FC+1251324]\n\tOrdinal0 [0x00926A76+1206902]\n\tOrdinal0 [0x0094854C+1344844]\n\tOrdinal0 [0x00926524+1205540]\n\tOrdinal0 [0x009486A4+1345188]\n\tOrdinal0 [0x0095834A+1409866]\n\tOrdinal0 [0x00948366+1344358]\n\tOrdinal0 [0x00925176+1200502]\n\tOrdinal0 [0x00926066+1204326]\n\tGetHandleVerifier [0x00C1BE02+1675858]\n\tGetHandleVerifier [0x00CD036C+2414524]\n\tGetHandleVerifier [0x00B0BB01+560977]\n\tGetHandleVerifier [0x00B0A8D3+556323]\n\tOrdinal0 [0x00A1020E+2163214]\n\tOrdinal0 [0x00A15078+2183288]\n\tOrdinal0 [0x00A151C0+2183616]\n\tOrdinal0 [0x00A1EE1C+2223644]\n\tBaseThreadInitThunk [0x74F9FA29+25]\n\tRtlGetAppContainerNamedObjectPath [0x76FC7A9E+286]\n\tRtlGetAppContainerNamedObjectPath [0x76FC7A6E+238]\n",
     "output_type": "error",
     "traceback": [
      "\u001b[1;31m---------------------------------------------------------------------------\u001b[0m",
      "\u001b[1;31mStaleElementReferenceException\u001b[0m            Traceback (most recent call last)",
      "\u001b[1;32m~\\AppData\\Local\\Temp/ipykernel_3844/1655195242.py\u001b[0m in \u001b[0;36m<module>\u001b[1;34m\u001b[0m\n\u001b[0;32m     12\u001b[0m     \u001b[1;31m#driver.get(next_page)\u001b[0m\u001b[1;33m\u001b[0m\u001b[1;33m\u001b[0m\u001b[0m\n\u001b[0;32m     13\u001b[0m     \u001b[0mi\u001b[0m \u001b[1;33m=\u001b[0m \u001b[0mi\u001b[0m \u001b[1;33m+\u001b[0m \u001b[1;36m1\u001b[0m\u001b[1;33m\u001b[0m\u001b[1;33m\u001b[0m\u001b[0m\n\u001b[1;32m---> 14\u001b[1;33m     \u001b[0mnext_page\u001b[0m\u001b[1;33m[\u001b[0m\u001b[0mi\u001b[0m\u001b[1;33m]\u001b[0m\u001b[1;33m.\u001b[0m\u001b[0mclick\u001b[0m\u001b[1;33m(\u001b[0m\u001b[1;33m)\u001b[0m\u001b[1;33m\u001b[0m\u001b[1;33m\u001b[0m\u001b[0m\n\u001b[0m\u001b[0;32m     15\u001b[0m     \u001b[1;31m#要素がロードされるまでの待ち時間を10秒に設定\u001b[0m\u001b[1;33m\u001b[0m\u001b[1;33m\u001b[0m\u001b[0m\n\u001b[0;32m     16\u001b[0m     \u001b[0mbrowser\u001b[0m\u001b[1;33m.\u001b[0m\u001b[0mimplicitly_wait\u001b[0m\u001b[1;33m(\u001b[0m\u001b[1;36m10\u001b[0m\u001b[1;33m)\u001b[0m\u001b[1;33m\u001b[0m\u001b[1;33m\u001b[0m\u001b[0m\n",
      "\u001b[1;32m~\\.venv\\lib\\site-packages\\selenium\\webdriver\\remote\\webelement.py\u001b[0m in \u001b[0;36mclick\u001b[1;34m(self)\u001b[0m\n\u001b[0;32m     79\u001b[0m     \u001b[1;32mdef\u001b[0m \u001b[0mclick\u001b[0m\u001b[1;33m(\u001b[0m\u001b[0mself\u001b[0m\u001b[1;33m)\u001b[0m \u001b[1;33m->\u001b[0m \u001b[1;32mNone\u001b[0m\u001b[1;33m:\u001b[0m\u001b[1;33m\u001b[0m\u001b[1;33m\u001b[0m\u001b[0m\n\u001b[0;32m     80\u001b[0m         \u001b[1;34m\"\"\"Clicks the element.\"\"\"\u001b[0m\u001b[1;33m\u001b[0m\u001b[1;33m\u001b[0m\u001b[0m\n\u001b[1;32m---> 81\u001b[1;33m         \u001b[0mself\u001b[0m\u001b[1;33m.\u001b[0m\u001b[0m_execute\u001b[0m\u001b[1;33m(\u001b[0m\u001b[0mCommand\u001b[0m\u001b[1;33m.\u001b[0m\u001b[0mCLICK_ELEMENT\u001b[0m\u001b[1;33m)\u001b[0m\u001b[1;33m\u001b[0m\u001b[1;33m\u001b[0m\u001b[0m\n\u001b[0m\u001b[0;32m     82\u001b[0m \u001b[1;33m\u001b[0m\u001b[0m\n\u001b[0;32m     83\u001b[0m     \u001b[1;32mdef\u001b[0m \u001b[0msubmit\u001b[0m\u001b[1;33m(\u001b[0m\u001b[0mself\u001b[0m\u001b[1;33m)\u001b[0m\u001b[1;33m:\u001b[0m\u001b[1;33m\u001b[0m\u001b[1;33m\u001b[0m\u001b[0m\n",
      "\u001b[1;32m~\\.venv\\lib\\site-packages\\selenium\\webdriver\\remote\\webelement.py\u001b[0m in \u001b[0;36m_execute\u001b[1;34m(self, command, params)\u001b[0m\n\u001b[0;32m    708\u001b[0m             \u001b[0mparams\u001b[0m \u001b[1;33m=\u001b[0m \u001b[1;33m{\u001b[0m\u001b[1;33m}\u001b[0m\u001b[1;33m\u001b[0m\u001b[1;33m\u001b[0m\u001b[0m\n\u001b[0;32m    709\u001b[0m         \u001b[0mparams\u001b[0m\u001b[1;33m[\u001b[0m\u001b[1;34m'id'\u001b[0m\u001b[1;33m]\u001b[0m \u001b[1;33m=\u001b[0m \u001b[0mself\u001b[0m\u001b[1;33m.\u001b[0m\u001b[0m_id\u001b[0m\u001b[1;33m\u001b[0m\u001b[1;33m\u001b[0m\u001b[0m\n\u001b[1;32m--> 710\u001b[1;33m         \u001b[1;32mreturn\u001b[0m \u001b[0mself\u001b[0m\u001b[1;33m.\u001b[0m\u001b[0m_parent\u001b[0m\u001b[1;33m.\u001b[0m\u001b[0mexecute\u001b[0m\u001b[1;33m(\u001b[0m\u001b[0mcommand\u001b[0m\u001b[1;33m,\u001b[0m \u001b[0mparams\u001b[0m\u001b[1;33m)\u001b[0m\u001b[1;33m\u001b[0m\u001b[1;33m\u001b[0m\u001b[0m\n\u001b[0m\u001b[0;32m    711\u001b[0m \u001b[1;33m\u001b[0m\u001b[0m\n\u001b[0;32m    712\u001b[0m     \u001b[1;32mdef\u001b[0m \u001b[0mfind_element\u001b[0m\u001b[1;33m(\u001b[0m\u001b[0mself\u001b[0m\u001b[1;33m,\u001b[0m \u001b[0mby\u001b[0m\u001b[1;33m=\u001b[0m\u001b[0mBy\u001b[0m\u001b[1;33m.\u001b[0m\u001b[0mID\u001b[0m\u001b[1;33m,\u001b[0m \u001b[0mvalue\u001b[0m\u001b[1;33m=\u001b[0m\u001b[1;32mNone\u001b[0m\u001b[1;33m)\u001b[0m\u001b[1;33m:\u001b[0m\u001b[1;33m\u001b[0m\u001b[1;33m\u001b[0m\u001b[0m\n",
      "\u001b[1;32m~\\.venv\\lib\\site-packages\\selenium\\webdriver\\remote\\webdriver.py\u001b[0m in \u001b[0;36mexecute\u001b[1;34m(self, driver_command, params)\u001b[0m\n\u001b[0;32m    423\u001b[0m         \u001b[0mresponse\u001b[0m \u001b[1;33m=\u001b[0m \u001b[0mself\u001b[0m\u001b[1;33m.\u001b[0m\u001b[0mcommand_executor\u001b[0m\u001b[1;33m.\u001b[0m\u001b[0mexecute\u001b[0m\u001b[1;33m(\u001b[0m\u001b[0mdriver_command\u001b[0m\u001b[1;33m,\u001b[0m \u001b[0mparams\u001b[0m\u001b[1;33m)\u001b[0m\u001b[1;33m\u001b[0m\u001b[1;33m\u001b[0m\u001b[0m\n\u001b[0;32m    424\u001b[0m         \u001b[1;32mif\u001b[0m \u001b[0mresponse\u001b[0m\u001b[1;33m:\u001b[0m\u001b[1;33m\u001b[0m\u001b[1;33m\u001b[0m\u001b[0m\n\u001b[1;32m--> 425\u001b[1;33m             \u001b[0mself\u001b[0m\u001b[1;33m.\u001b[0m\u001b[0merror_handler\u001b[0m\u001b[1;33m.\u001b[0m\u001b[0mcheck_response\u001b[0m\u001b[1;33m(\u001b[0m\u001b[0mresponse\u001b[0m\u001b[1;33m)\u001b[0m\u001b[1;33m\u001b[0m\u001b[1;33m\u001b[0m\u001b[0m\n\u001b[0m\u001b[0;32m    426\u001b[0m             response['value'] = self._unwrap_value(\n\u001b[0;32m    427\u001b[0m                 response.get('value', None))\n",
      "\u001b[1;32m~\\.venv\\lib\\site-packages\\selenium\\webdriver\\remote\\errorhandler.py\u001b[0m in \u001b[0;36mcheck_response\u001b[1;34m(self, response)\u001b[0m\n\u001b[0;32m    245\u001b[0m                 \u001b[0malert_text\u001b[0m \u001b[1;33m=\u001b[0m \u001b[0mvalue\u001b[0m\u001b[1;33m[\u001b[0m\u001b[1;34m'alert'\u001b[0m\u001b[1;33m]\u001b[0m\u001b[1;33m.\u001b[0m\u001b[0mget\u001b[0m\u001b[1;33m(\u001b[0m\u001b[1;34m'text'\u001b[0m\u001b[1;33m)\u001b[0m\u001b[1;33m\u001b[0m\u001b[1;33m\u001b[0m\u001b[0m\n\u001b[0;32m    246\u001b[0m             \u001b[1;32mraise\u001b[0m \u001b[0mexception_class\u001b[0m\u001b[1;33m(\u001b[0m\u001b[0mmessage\u001b[0m\u001b[1;33m,\u001b[0m \u001b[0mscreen\u001b[0m\u001b[1;33m,\u001b[0m \u001b[0mstacktrace\u001b[0m\u001b[1;33m,\u001b[0m \u001b[0malert_text\u001b[0m\u001b[1;33m)\u001b[0m  \u001b[1;31m# type: ignore[call-arg]  # mypy is not smart enough here\u001b[0m\u001b[1;33m\u001b[0m\u001b[1;33m\u001b[0m\u001b[0m\n\u001b[1;32m--> 247\u001b[1;33m         \u001b[1;32mraise\u001b[0m \u001b[0mexception_class\u001b[0m\u001b[1;33m(\u001b[0m\u001b[0mmessage\u001b[0m\u001b[1;33m,\u001b[0m \u001b[0mscreen\u001b[0m\u001b[1;33m,\u001b[0m \u001b[0mstacktrace\u001b[0m\u001b[1;33m)\u001b[0m\u001b[1;33m\u001b[0m\u001b[1;33m\u001b[0m\u001b[0m\n\u001b[0m\u001b[0;32m    248\u001b[0m \u001b[1;33m\u001b[0m\u001b[0m\n\u001b[0;32m    249\u001b[0m     \u001b[1;32mdef\u001b[0m \u001b[0m_value_or_default\u001b[0m\u001b[1;33m(\u001b[0m\u001b[0mself\u001b[0m\u001b[1;33m,\u001b[0m \u001b[0mobj\u001b[0m\u001b[1;33m:\u001b[0m \u001b[0mMapping\u001b[0m\u001b[1;33m[\u001b[0m\u001b[0m_KT\u001b[0m\u001b[1;33m,\u001b[0m \u001b[0m_VT\u001b[0m\u001b[1;33m]\u001b[0m\u001b[1;33m,\u001b[0m \u001b[0mkey\u001b[0m\u001b[1;33m:\u001b[0m \u001b[0m_KT\u001b[0m\u001b[1;33m,\u001b[0m \u001b[0mdefault\u001b[0m\u001b[1;33m:\u001b[0m \u001b[0m_VT\u001b[0m\u001b[1;33m)\u001b[0m \u001b[1;33m->\u001b[0m \u001b[0m_VT\u001b[0m\u001b[1;33m:\u001b[0m\u001b[1;33m\u001b[0m\u001b[1;33m\u001b[0m\u001b[0m\n",
      "\u001b[1;31mStaleElementReferenceException\u001b[0m: Message: stale element reference: element is not attached to the page document\n  (Session info: chrome=98.0.4758.102)\nStacktrace:\nBacktrace:\n\tOrdinal0 [0x00A769A3+2582947]\n\tOrdinal0 [0x00A0A6D1+2139857]\n\tOrdinal0 [0x00903A98+1063576]\n\tOrdinal0 [0x009062B7+1073847]\n\tOrdinal0 [0x0090617E+1073534]\n\tOrdinal0 [0x009063F0+1074160]\n\tOrdinal0 [0x009317FC+1251324]\n\tOrdinal0 [0x00926A76+1206902]\n\tOrdinal0 [0x0094854C+1344844]\n\tOrdinal0 [0x00926524+1205540]\n\tOrdinal0 [0x009486A4+1345188]\n\tOrdinal0 [0x0095834A+1409866]\n\tOrdinal0 [0x00948366+1344358]\n\tOrdinal0 [0x00925176+1200502]\n\tOrdinal0 [0x00926066+1204326]\n\tGetHandleVerifier [0x00C1BE02+1675858]\n\tGetHandleVerifier [0x00CD036C+2414524]\n\tGetHandleVerifier [0x00B0BB01+560977]\n\tGetHandleVerifier [0x00B0A8D3+556323]\n\tOrdinal0 [0x00A1020E+2163214]\n\tOrdinal0 [0x00A15078+2183288]\n\tOrdinal0 [0x00A151C0+2183616]\n\tOrdinal0 [0x00A1EE1C+2223644]\n\tBaseThreadInitThunk [0x74F9FA29+25]\n\tRtlGetAppContainerNamedObjectPath [0x76FC7A9E+286]\n\tRtlGetAppContainerNamedObjectPath [0x76FC7A6E+238]\n"
     ]
    }
   ],
   "source": [
    "#複数ページのループ処理\n",
    "# 1ページ目の次のページ（2ページ目）のURLを取得\n",
    "next_page = browser.find_elements(by='class name', value='page')\n",
    "#next_page.click()\n",
    "#next_page = browser.find_element(by='class name', value='page').get_attribute('href')\n",
    "#(\"js-next-page-link\").get_attribute(\"href\")\n",
    "\n",
    "# 2ページ目から最終ページまでをループ処理する\n",
    "i=0\n",
    "while len(next_page) > i:\n",
    "    #next_page.click()\n",
    "    #driver.get(next_page)\n",
    "    i = i + 1\n",
    "    next_page[i].click()\n",
    "    #要素がロードされるまでの待ち時間を10秒に設定\n",
    "    browser.implicitly_wait(10)\n",
    "    #next_page_html = driver.page_source.encode('utf-8')\n",
    "\n",
    "# 任意の処理の実装コードをここに書く\n",
    "\n",
    "#    next_page_url = driver.find_element_by_class_name(\"js-next-page-link\").get_attribute(\"href\")\n",
    "    #next_page = browser.find_elements(by='class name', value='page')\n",
    "else:\n",
    "    print(\"\\n\\n最後のページの処理が終わりました。\\n\\n\")\n",
    "   \n",
    "##print( browser.page_source )\n",
    "#header部表示\n",
    "#element = browser.find_element_by_tag_name( \"head\" )\n",
    "#print( element.get_attribute('innerHTML') )"
   ]
  },
  {
   "cell_type": "code",
   "execution_count": 5,
   "id": "6126999f-5fc2-4ad8-995c-c533ab5aa92a",
   "metadata": {},
   "outputs": [],
   "source": [
    "html = browser.page_source.encode('utf-8')\n",
    "\n",
    "soup = BeautifulSoup(html, 'html.parser')\n",
    "\n",
    "results = soup.find_all(\"h1\", class_=\"searchResult_itemTitle\")"
   ]
  },
  {
   "cell_type": "code",
   "execution_count": 6,
   "id": "7e29b116-22b9-4bc1-81c9-397e4b7cdb40",
   "metadata": {},
   "outputs": [
    {
     "ename": "NameError",
     "evalue": "name 'html_soup' is not defined",
     "output_type": "error",
     "traceback": [
      "\u001b[1;31m---------------------------------------------------------------------------\u001b[0m",
      "\u001b[1;31mNameError\u001b[0m                                 Traceback (most recent call last)",
      "\u001b[1;32m~\\AppData\\Local\\Temp/ipykernel_9324/1368722143.py\u001b[0m in \u001b[0;36m<module>\u001b[1;34m\u001b[0m\n\u001b[0;32m     15\u001b[0m \u001b[1;33m\u001b[0m\u001b[0m\n\u001b[0;32m     16\u001b[0m \u001b[0mpageCounter\u001b[0m \u001b[1;33m=\u001b[0m \u001b[1;36m0\u001b[0m\u001b[1;33m\u001b[0m\u001b[1;33m\u001b[0m\u001b[0m\n\u001b[1;32m---> 17\u001b[1;33m \u001b[0mmaxPageCount\u001b[0m \u001b[1;33m=\u001b[0m \u001b[0mint\u001b[0m\u001b[1;33m(\u001b[0m\u001b[0mhtml_soup\u001b[0m\u001b[1;33m.\u001b[0m\u001b[0mfind\u001b[0m\u001b[1;33m(\u001b[0m\u001b[1;34m'a'\u001b[0m\u001b[1;33m,\u001b[0m \u001b[0mclass_\u001b[0m \u001b[1;33m=\u001b[0m \u001b[1;34m'totalPageNum'\u001b[0m\u001b[1;33m)\u001b[0m\u001b[1;33m.\u001b[0m\u001b[0mtext\u001b[0m\u001b[1;33m)\u001b[0m\u001b[1;33m+\u001b[0m\u001b[1;36m1\u001b[0m\u001b[1;33m\u001b[0m\u001b[1;33m\u001b[0m\u001b[0m\n\u001b[0m\u001b[0;32m     18\u001b[0m \u001b[1;33m\u001b[0m\u001b[0m\n\u001b[0;32m     19\u001b[0m \u001b[1;33m\u001b[0m\u001b[0m\n",
      "\u001b[1;31mNameError\u001b[0m: name 'html_soup' is not defined"
     ]
    }
   ],
   "source": [
    "from selenium import webdriver\n",
    "from bs4 import BeautifulSoup\n",
    "driver = webdriver.Chrome()\n",
    "driver.get('https://www.kohls.com/catalog/mens-button-down-shirts-tops-clothing.jsp?CN=Gender:Mens+Silhouette:Button-Down%20Shirts+Category:Tops+Department:Clothing&cc=mens-TN3.0-S-buttondownshirts&kls_sbp=43160314801019132980443403449632772558&PPP=120&WS=0')\n",
    "\n",
    "products = []\n",
    "hyperlinks = []\n",
    "reviewCounts = []\n",
    "starRatings = []\n",
    "\n",
    "products.clear()\n",
    "hyperlinks.clear()\n",
    "reviewCounts.clear()\n",
    "starRatings.clear()\n",
    "\n",
    "\n",
    "\n",
    "# html_soup = BeautifulSoup(driver.page_source, 'html.parser')\n",
    "html_soup = BeautifulSoup(driver.page_source.encode('utf-8'), 'html.parser')\n",
    "prod_containers = html_soup.find_all('li', class_ = 'products_grid')\n",
    "\n",
    "pageCounter = 0\n",
    "maxPageCount = int(html_soup.find('a', class_ = 'totalPageNum').text)+1\n",
    "\n",
    "\n",
    "while (pageCounter < maxPageCount):\n",
    "    for product in prod_containers:\n",
    "        # If the product has review count, then extract:\n",
    "        if product.find('span', class_ = 'prod_ratingCount') is not None:\n",
    "            # The product name\n",
    "            name = product.find('div', class_ = 'prod_nameBlock')\n",
    "            name = re.sub(r\"\\s+\", \" \", name.text)\n",
    "            products.append(name)\n",
    "\n",
    "            # The product hyperlink\n",
    "            hyperlink = product.find('span', class_ = 'prod_ratingCount')\n",
    "            hyperlink = hyperlink.a\n",
    "            hyperlink = hyperlink.get('href')\n",
    "            hyperlinks.append(hyperlink)\n",
    "\n",
    "            # The product review count\n",
    "            reviewCount = product.find('span', class_ = 'prod_ratingCount').a.text\n",
    "            reviewCounts.append(reviewCount)\n",
    "\n",
    "            # The product overall star ratings\n",
    "            starRating = product.find('span', class_ = 'prod_ratingCount')\n",
    "            starRating = starRating.a\n",
    "            starRating = starRating.get('alt')\n",
    "            starRatings.append(starRating) \n",
    "\n",
    "    driver.find_element_by_xpath('//*[@id=\"page-navigation-top\"]/a[2]').click()\n",
    "    counterProduct +=1\n",
    "    print(counterProduct)"
   ]
  },
  {
   "cell_type": "code",
   "execution_count": null,
   "id": "39483be3-527e-4996-91e2-fd89508ec5bb",
   "metadata": {},
   "outputs": [],
   "source": []
  }
 ],
 "metadata": {
  "kernelspec": {
   "display_name": "Python 3 (ipykernel)",
   "language": "python",
   "name": "python3"
  },
  "language_info": {
   "codemirror_mode": {
    "name": "ipython",
    "version": 3
   },
   "file_extension": ".py",
   "mimetype": "text/x-python",
   "name": "python",
   "nbconvert_exporter": "python",
   "pygments_lexer": "ipython3",
   "version": "3.10.1"
  }
 },
 "nbformat": 4,
 "nbformat_minor": 5
}
