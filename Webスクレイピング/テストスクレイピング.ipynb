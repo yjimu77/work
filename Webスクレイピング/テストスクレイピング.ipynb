{
 "cells": [
  {
   "cell_type": "code",
   "execution_count": 8,
   "id": "99a2059e-5b67-43b9-aad2-695df27a58b3",
   "metadata": {},
   "outputs": [
    {
     "ename": "AttributeError",
     "evalue": "'NoneType' object has no attribute 'text'",
     "output_type": "error",
     "traceback": [
      "\u001b[1;31m---------------------------------------------------------------------------\u001b[0m",
      "\u001b[1;31mAttributeError\u001b[0m                            Traceback (most recent call last)",
      "\u001b[1;32m~\\AppData\\Local\\Temp/ipykernel_7844/678308504.py\u001b[0m in \u001b[0;36m<module>\u001b[1;34m\u001b[0m\n\u001b[0;32m     21\u001b[0m \u001b[1;33m\u001b[0m\u001b[0m\n\u001b[0;32m     22\u001b[0m \u001b[0mpageCounter\u001b[0m \u001b[1;33m=\u001b[0m \u001b[1;36m0\u001b[0m\u001b[1;33m\u001b[0m\u001b[1;33m\u001b[0m\u001b[0m\n\u001b[1;32m---> 23\u001b[1;33m \u001b[0mmaxPageCount\u001b[0m \u001b[1;33m=\u001b[0m \u001b[0mint\u001b[0m\u001b[1;33m(\u001b[0m\u001b[0mhtml_soup\u001b[0m\u001b[1;33m.\u001b[0m\u001b[0mfind\u001b[0m\u001b[1;33m(\u001b[0m\u001b[1;34m'a'\u001b[0m\u001b[1;33m,\u001b[0m \u001b[0mclass_\u001b[0m \u001b[1;33m=\u001b[0m \u001b[1;34m'totalPageNum'\u001b[0m\u001b[1;33m)\u001b[0m\u001b[1;33m.\u001b[0m\u001b[0mtext\u001b[0m\u001b[1;33m)\u001b[0m\u001b[1;33m+\u001b[0m\u001b[1;36m1\u001b[0m\u001b[1;33m\u001b[0m\u001b[1;33m\u001b[0m\u001b[0m\n\u001b[0m\u001b[0;32m     24\u001b[0m \u001b[1;33m\u001b[0m\u001b[0m\n\u001b[0;32m     25\u001b[0m \u001b[1;33m\u001b[0m\u001b[0m\n",
      "\u001b[1;31mAttributeError\u001b[0m: 'NoneType' object has no attribute 'text'"
     ]
    }
   ],
   "source": [
    "from selenium import webdriver\n",
    "from bs4 import BeautifulSoup\n",
    "driver = webdriver.Chrome()\n",
    "driver.get('https://www.kohls.com/catalog/mens-button-down-shirts-tops-clothing.jsp?CN=Gender:Mens+Silhouette:Button-Down%20Shirts+Category:Tops+Department:Clothing&cc=mens-TN3.0-S-buttondownshirts&kls_sbp=43160314801019132980443403449632772558&PPP=120&WS=0')\n",
    "html_soup = BeautifulSoup(driver.page_source, 'html.parser')\n",
    "#html_soup = driver.page_source\n",
    "\n",
    "products = []\n",
    "hyperlinks = []\n",
    "reviewCounts = []\n",
    "starRatings = []\n",
    "\n",
    "products.clear()\n",
    "hyperlinks.clear()\n",
    "reviewCounts.clear()\n",
    "starRatings.clear()\n",
    "\n",
    "html_soup = BeautifulSoup(driver.page_source.encode('utf-8'), 'html.parser')\n",
    "#html = driver.page_source.encode('utf-8')\n",
    "prod_containers = html_soup.find_all('li', class_ = 'products_grid')\n",
    "\n",
    "pageCounter = 0\n",
    "maxPageCount = int(html_soup.find('a', class_ = 'totalPageNum').text)+1\n",
    "\n",
    "\n",
    "while (pageCounter < maxPageCount):\n",
    "    for product in prod_containers:\n",
    "        # If the product has review count, then extract:\n",
    "        if product.find('span', class_ = 'prod_ratingCount') is not None:\n",
    "            # The product name\n",
    "            name = product.find('div', class_ = 'prod_nameBlock')\n",
    "            name = re.sub(r\"\\s+\", \" \", name.text)\n",
    "            products.append(name)\n",
    "\n",
    "            # The product hyperlink\n",
    "            hyperlink = product.find('span', class_ = 'prod_ratingCount')\n",
    "            hyperlink = hyperlink.a\n",
    "            hyperlink = hyperlink.get('href')\n",
    "            hyperlinks.append(hyperlink)\n",
    "\n",
    "            # The product review count\n",
    "            reviewCount = product.find('span', class_ = 'prod_ratingCount').a.text\n",
    "            reviewCounts.append(reviewCount)\n",
    "\n",
    "            # The product overall star ratings\n",
    "            starRating = product.find('span', class_ = 'prod_ratingCount')\n",
    "            starRating = starRating.a\n",
    "            starRating = starRating.get('alt')\n",
    "            starRatings.append(starRating) \n",
    "\n",
    "    driver.find_element_by_xpath('//*[@id=\"page-navigation-top\"]/a[2]').click()\n",
    "    counterProduct +=1\n",
    "    print(counterProduct)"
   ]
  },
  {
   "cell_type": "code",
   "execution_count": 3,
   "id": "858e420f-61c4-4086-b758-65d4ea9d6252",
   "metadata": {},
   "outputs": [
    {
     "name": "stderr",
     "output_type": "stream",
     "text": [
      "[NbConvertApp] Converting notebook テストスクレイピング.ipynb to python\n",
      "[NbConvertApp] Writing 1949 bytes to テストスクレイピング.py\n"
     ]
    }
   ],
   "source": [
    "!jupyter nbconvert --to python テストスクレイピング.ipynb"
   ]
  },
  {
   "cell_type": "code",
   "execution_count": null,
   "id": "145a2e3e-ecbb-4dd8-a138-9922690b0ecf",
   "metadata": {},
   "outputs": [],
   "source": []
  }
 ],
 "metadata": {
  "kernelspec": {
   "display_name": "Python 3 (ipykernel)",
   "language": "python",
   "name": "python3"
  },
  "language_info": {
   "codemirror_mode": {
    "name": "ipython",
    "version": 3
   },
   "file_extension": ".py",
   "mimetype": "text/x-python",
   "name": "python",
   "nbconvert_exporter": "python",
   "pygments_lexer": "ipython3",
   "version": "3.10.1"
  }
 },
 "nbformat": 4,
 "nbformat_minor": 5
}
